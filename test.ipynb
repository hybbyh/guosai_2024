{
 "cells": [
  {
   "cell_type": "code",
   "execution_count": 1,
   "metadata": {},
   "outputs": [
    {
     "name": "stdout",
     "output_type": "stream",
     "text": [
      "找到路径: [(0, 0), (0, 1), (0, 2), (0, 3), (0, 4), (1, 4), (2, 4), (3, 4), (4, 4)]\n"
     ]
    }
   ],
   "source": [
    "#编写一段A* 算法代码\n",
    "import heapq\n",
    "\n",
    "class Node:\n",
    "    def __init__(self, x, y, cost=0, heuristic=0, parent=None):\n",
    "        self.x = x\n",
    "        self.y = y\n",
    "        self.cost = cost  # 当前节点到起点的实际代价\n",
    "        self.heuristic = heuristic  # 启发式函数值\n",
    "        self.parent = parent  # 父节点\n",
    "        self.f = self.cost + self.heuristic  # 总代价\n",
    "\n",
    "    def __lt__(self, other):\n",
    "        return self.f < other.f\n",
    "\n",
    "def heuristic(a, b):\n",
    "    \"\"\"计算两个节点之间的曼哈顿距离\"\"\"\n",
    "    return abs(a.x - b.x) + abs(a.y - b.y)\n",
    "\n",
    "def a_star_search(grid, start, goal):\n",
    "    \"\"\"A* 算法搜索\"\"\"\n",
    "    open_set = []  # 开放列表\n",
    "    closed_set = set()  # 关闭列表\n",
    "\n",
    "    # 初始化起点\n",
    "    start_node = Node(start[0], start[1], heuristic=heuristic(Node(*start), Node(*goal)))\n",
    "    heapq.heappush(open_set, start_node)\n",
    "\n",
    "    while open_set:\n",
    "        current_node = heapq.heappop(open_set)\n",
    "        closed_set.add((current_node.x, current_node.y))\n",
    "\n",
    "        if (current_node.x, current_node.y) == goal:\n",
    "            path = []\n",
    "            while current_node.parent is not None:\n",
    "                path.append((current_node.x, current_node.y))\n",
    "                current_node = current_node.parent\n",
    "            path.append((start_node.x, start_node.y))\n",
    "            return path[::-1]\n",
    "\n",
    "        neighbors = [\n",
    "            (current_node.x + dx, current_node.y + dy)\n",
    "            for dx, dy in [(0, 1), (1, 0), (0, -1), (-1, 0)]\n",
    "        ]\n",
    "\n",
    "        for neighbor in neighbors:\n",
    "            if (\n",
    "                0 <= neighbor[0] < len(grid)\n",
    "                and 0 <= neighbor[1] < len(grid[0])\n",
    "                and grid[neighbor[0]][neighbor[1]] != 1\n",
    "                and neighbor not in closed_set\n",
    "            ):\n",
    "                new_cost = current_node.cost + 1\n",
    "                new_node = Node(\n",
    "                    neighbor[0],\n",
    "                    neighbor[1],\n",
    "                    cost=new_cost,\n",
    "                    heuristic=heuristic(Node(*neighbor), Node(*goal)),\n",
    "                    parent=current_node\n",
    "                )\n",
    "                heapq.heappush(open_set, new_node)\n",
    "\n",
    "    return None\n",
    "\n",
    "# 示例\n",
    "grid = [\n",
    "    [0, 0, 0, 0, 0],\n",
    "    [0, 1, 1, 1, 0],\n",
    "    [0, 0, 0, 0, 0],\n",
    "    [0, 1, 1, 1, 0],\n",
    "    [0, 0, 0, 0, 0]\n",
    "]\n",
    "\n",
    "start = (0, 0)\n",
    "goal = (4, 4)\n",
    "\n",
    "path = a_star_search(grid, start, goal)\n",
    "if path:\n",
    "    print(\"找到路径:\", path)\n",
    "else:\n",
    "    print(\"没有找到路径\")"
   ]
  },
  {
   "cell_type": "code",
   "execution_count": null,
   "metadata": {},
   "outputs": [],
   "source": []
  }
 ],
 "metadata": {
  "kernelspec": {
   "display_name": "Python 3",
   "language": "python",
   "name": "python3"
  },
  "language_info": {
   "codemirror_mode": {
    "name": "ipython",
    "version": 3
   },
   "file_extension": ".py",
   "mimetype": "text/x-python",
   "name": "python",
   "nbconvert_exporter": "python",
   "pygments_lexer": "ipython3",
   "version": "3.9.0"
  }
 },
 "nbformat": 4,
 "nbformat_minor": 2
}
