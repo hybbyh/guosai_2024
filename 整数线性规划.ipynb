{
 "cells": [
  {
   "cell_type": "code",
   "execution_count": null,
   "metadata": {},
   "outputs": [
    {
     "name": "stdout",
     "output_type": "stream",
     "text": [
      "优化后的总收益: 53.0\n",
      "在时间段 0 地块 0 上种植蔬菜 0\n",
      "在时间段 0 地块 1 上种植蔬菜 0\n",
      "在时间段 1 地块 0 上种植蔬菜 1\n",
      "在时间段 1 地块 1 上种植蔬菜 1\n",
      "在时间段 2 地块 0 上种植蔬菜 2\n",
      "在时间段 2 地块 1 上种植蔬菜 2\n"
     ]
    }
   ],
   "source": [
    "import pulp\n",
    "\n",
    "# 定义问题\n",
    "problem = pulp.LpProblem(\"Crop_Planning_Optimization\", pulp.LpMaximize)\n",
    "\n",
    "# 假设 n 种蔬菜, k 块地, m 个时间段\n",
    "n, k, m = 3, 2, 3\n",
    "\n",
    "# 示例数据：每种蔬菜在不同地块和时间段的收益\n",
    "R = [[[10, 15, 20], [8, 12, 25]],  # 蔬菜 1 的收益\n",
    "     [[5, 10, 15], [7, 8, 10]],    # 蔬菜 2 的收益\n",
    "     [[8, 9, 10], [5, 6, 7]]]      # 蔬菜 3 的收益\n",
    "\n",
    "# 决策变量：x[i][j][t] 表示在时间 t 是否在地块 j 上种植蔬菜 i\n",
    "x = [[[pulp.LpVariable(f\"x_{i}_{j}_{t}\", 0, 1, pulp.LpBinary)\n",
    "       for t in range(m)] for j in range(k)] for i in range(n)]\n",
    "\n",
    "# 目标函数：最大化总收益\n",
    "problem += pulp.lpSum(R[i][j][t] * x[i][j][t]\n",
    "                      for i in range(n) for j in range(k) for t in range(m))\n",
    "\n",
    "# 约束条件\n",
    "# 每块地在每个时间段只能种植一种蔬菜\n",
    "for j in range(k):\n",
    "    for t in range(m):\n",
    "        problem += pulp.lpSum(x[i][j][t] for i in range(n)) <= 1\n",
    "\n",
    "# 蔬菜的种植时间窗口约束（假设蔬菜 1 只能在时间段 0，蔬菜 2 只能在时间段 1）\n",
    "time_windows = [[0], [1], [0, 1, 2]]\n",
    "for i in range(n):\n",
    "    for j in range(k):\n",
    "        for t in range(m):\n",
    "            if t not in time_windows[i]:\n",
    "                problem += x[i][j][t] == 0\n",
    "\n",
    "# 求解问题\n",
    "problem.solve()\n",
    "\n",
    "# 输出结果\n",
    "print(f\"优化后的总收益: {pulp.value(problem.objective)}\")\n",
    "for i in range(n):\n",
    "    for j in range(k):\n",
    "        for t in range(m):\n",
    "            if pulp.value(x[i][j][t]) == 1:\n",
    "                print(f\"在时间段 {t} 地块 {j} 上种植蔬菜 {i}\")\n"
   ]
  },
  {
   "cell_type": "code",
   "execution_count": null,
   "metadata": {},
   "outputs": [],
   "source": [
    "#hello\n",
    "#编写一段其他类型的代码\n",
    "    def __init__(self, name, age):\n",
    "        self.name = name\n",
    "        self.age = age\n",
    "        self.sex = 'male'\n",
    "        self.height = 1.75\n",
    "        self.weight = 70\n",
    "        self.hobby = 'football'"
   ]
  }
 ],
 "metadata": {
  "kernelspec": {
   "display_name": "t1",
   "language": "python",
   "name": "python3"
  },
  "language_info": {
   "codemirror_mode": {
    "name": "ipython",
    "version": 3
   },
   "file_extension": ".py",
   "mimetype": "text/x-python",
   "name": "python",
   "nbconvert_exporter": "python",
   "pygments_lexer": "ipython3",
   "version": "3.9.0"
  }
 },
 "nbformat": 4,
 "nbformat_minor": 2
}
